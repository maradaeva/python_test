{
 "cells": [
  {
   "cell_type": "code",
   "execution_count": null,
   "metadata": {
    "collapsed": false
   },
   "outputs": [
    {
     "name": "stdout",
     "output_type": "stream",
     "text": [
      "1\n",
      "4\n",
      "9\n",
      "16\n",
      "25\n"
     ]
    }
   ],
   "source": [
    "#1) Дан список [1, 2, 3, 4, 5].\n",
    "#Вывести квадраты всех чисел из списка.\n",
    "\n",
    "l1 = [1, 2, 3, 4, 5]\n",
    "i = 0\n",
    "\n",
    "while i < len(l1):\n",
    "    print(l1[i]**2)\n",
    "    i = i + 1"
   ]
  },
  {
   "cell_type": "code",
   "execution_count": null,
   "metadata": {
    "collapsed": false
   },
   "outputs": [],
   "source": [
    "#2) Пользователь вводит число от 1 до 12.\n",
    "#Вернуть название сезона, которому принадлежит месяц с этим номером (весна, лето, зима, весна).\n",
    "\n",
    "month = int(input('Enter a number from 1 to 12: '))\n",
    "if 1 <= month <= 2 or month == 12:\n",
    "    print('winter')\n",
    "elif 3 <= month <= 5:\n",
    "    print('spring')\n",
    "elif 6 <= month <= 8:\n",
    "    print('summer')\n",
    "elif 9 <= month <= 11:\n",
    "    print('autumn')\n",
    "else:\n",
    "    print('Error: Enter a number from 1 to 12')"
   ]
  },
  {
   "cell_type": "code",
   "execution_count": null,
   "metadata": {
    "collapsed": false
   },
   "outputs": [],
   "source": [
    "#3) Пользователь вводит температуру в градусах Цельсия.\n",
    "#Вывести температуру в градусах фаренгейта.\n",
    "\n",
    "temp = int(input('Enter the temperature in degrees Celsius: '))\n",
    "print((temp * (9/5)) + 32)"
   ]
  },
  {
   "cell_type": "code",
   "execution_count": null,
   "metadata": {
    "collapsed": false
   },
   "outputs": [],
   "source": [
    "#4) Пользователь вводит три числа.\n",
    "#Написать \"yes\", если можно взять какие-то два из них и в сумме получить третье.\n",
    "\n",
    "x = int(input('Enter the first number: '))\n",
    "y = int(input('Enter the second number: '))\n",
    "z = int(input('Enter the third number: '))\n",
    "\n",
    "if (x+y == z) or (x+z == y) or (y+z == x):\n",
    "    print(\"yes\")\n",
    "else:\n",
    "    print(\"no\")"
   ]
  },
  {
   "cell_type": "code",
   "execution_count": 6,
   "metadata": {
    "collapsed": false
   },
   "outputs": [
    {
     "name": "stdout",
     "output_type": "stream",
     "text": [
      "Enter the number: 9\n",
      "[4, 3, 2, 1, 0, 1, 2, 3, 4]\n"
     ]
    }
   ],
   "source": [
    "#5) Пользователь вводит число N.\n",
    "#Создать массив размера N, который одинаково читается как слева направо, так и справа налево.\n",
    "\n",
    "N = int(input('Enter the number: '))\n",
    "l = [a for a in range(N//2, 0, -1)]\n",
    "if N%2:                            \n",
    "    l+=[0]\n",
    "    l+=reversed(l[:-1])\n",
    "else:\n",
    "    l+=reversed(l)\n",
    "print(l)"
   ]
  },
  {
   "cell_type": "code",
   "execution_count": null,
   "metadata": {
    "collapsed": false
   },
   "outputs": [],
   "source": [
    "#6) Пользователь вводит строку.\n",
    "#Напечатать словарь, ключами которого являются четные символы строки, а значениями - нечетные.\n",
    "#Если последнему ключу не хватает значения, не добавлять его в словарь. \n",
    "\n",
    "a = input('Enter the string: ')\n",
    "b = {}\n",
    "c = 1\n",
    "d = 0\n",
    "\n",
    "a = a.replace(' ', '')\n",
    "a = list(a)\n",
    "\n",
    "if (len(a)%2 != 0):\n",
    "    del a[-1]\n",
    "\n",
    "for i in range(int(len(a)/2)):\n",
    "    b[a[c]] = a[d]\n",
    "    c = c + 2\n",
    "    d = d + 2\n",
    "\n",
    "print(b)"
   ]
  },
  {
   "cell_type": "code",
   "execution_count": null,
   "metadata": {
    "collapsed": true
   },
   "outputs": [],
   "source": []
  }
 ],
 "metadata": {
  "kernelspec": {
   "display_name": "Python 3",
   "language": "python",
   "name": "python3"
  },
  "language_info": {
   "codemirror_mode": {
    "name": "ipython",
    "version": 3
   },
   "file_extension": ".py",
   "mimetype": "text/x-python",
   "name": "python",
   "nbconvert_exporter": "python",
   "pygments_lexer": "ipython3",
   "version": "3.6.0"
  }
 },
 "nbformat": 4,
 "nbformat_minor": 2
}
